{
 "cells": [
  {
   "cell_type": "markdown",
   "id": "f08f6cb4",
   "metadata": {},
   "source": [
    "# 2D Heat Equation – Demo v2.2\n",
    "\n",
    "This version extends the v2.1 simulation by:\n",
    "\n",
    "- Adding a compact animation of the evolving heat field\n",
    "- Computing the L² error with respect to the initial condition\n",
    "- Finalizing diagnostics for field evolution"
   ]
  },
  {
   "cell_type": "code",
   "execution_count": 7,
   "id": "5218b22d",
   "metadata": {},
   "outputs": [],
   "source": [
    "import sys\n",
    "from pathlib import Path\n",
    "sys.path.append(str(Path(\"../src\").resolve()))\n",
    "\n",
    "import numpy as np\n",
    "import matplotlib.pyplot as plt\n",
    "\n",
    "from numerics.laplacian_2d import make_laplacian_2d\n",
    "from pdes.heat_solver_2d import run_heat_solver_2d\n",
    "from utils.diagnostics import compute_l2_error\n",
    "from visualization.plotting_2d import animate_2d"
   ]
  },
  {
   "cell_type": "markdown",
   "id": "905cc325",
   "metadata": {},
   "source": [
    "## Grid Setup\n",
    "\n",
    "We simulate on a square domain of length:\n",
    "\n",
    "$$\n",
    "L = 10\n",
    "$$\n",
    "\n",
    "with grid resolution:\n",
    "\n",
    "$$\n",
    "N \\times N = 64 \\times 64\n",
    "$$"
   ]
  },
  {
   "cell_type": "code",
   "execution_count": 8,
   "id": "405a613b",
   "metadata": {},
   "outputs": [],
   "source": [
    "N = 64\n",
    "L = 10.0\n",
    "dx = dy = L / N\n",
    "\n",
    "x = np.linspace(-L/2, L/2, N, endpoint=False)\n",
    "y = x.copy()\n",
    "X, Y = np.meshgrid(x, y, indexing=\"ij\")"
   ]
  },
  {
   "cell_type": "markdown",
   "id": "d73b115b",
   "metadata": {},
   "source": [
    "## Initial Condition – Gaussian Bump\n",
    "\n",
    "$$\n",
    "u_0(x, y) = \\exp\\left( -\\frac{x^2 + y^2}{2} \\right)\n",
    "$$"
   ]
  },
  {
   "cell_type": "code",
   "execution_count": 9,
   "id": "cc91de78",
   "metadata": {},
   "outputs": [],
   "source": [
    "def gaussian_bump_2d(X, Y, width=1.0, amplitude=1.0):\n",
    "    return amplitude * np.exp(-(X**2 + Y**2) / (2 * width**2))\n",
    "\n",
    "u0 = gaussian_bump_2d(X, Y)"
   ]
  },
  {
   "cell_type": "markdown",
   "id": "f137e4c6",
   "metadata": {},
   "source": [
    "## Sparse Kronecker-Sum Laplacian"
   ]
  },
  {
   "cell_type": "code",
   "execution_count": 10,
   "id": "697b8357",
   "metadata": {},
   "outputs": [
    {
     "name": "stdout",
     "output_type": "stream",
     "text": [
      "Laplacian shape: (4096, 4096)\n"
     ]
    },
    {
     "name": "stderr",
     "output_type": "stream",
     "text": [
      "/Library/Frameworks/Python.framework/Versions/3.13/lib/python3.13/site-packages/scipy/sparse/_index.py:168: SparseEfficiencyWarning: Changing the sparsity structure of a csr_matrix is expensive. lil and dok are more efficient.\n",
      "  self._set_intXint(row, col, x.flat[0])\n"
     ]
    }
   ],
   "source": [
    "L_op = make_laplacian_2d(N, N, dx, dy)\n",
    "print(\"Laplacian shape:\", L_op.shape)"
   ]
  },
  {
   "cell_type": "markdown",
   "id": "d0082b35",
   "metadata": {},
   "source": [
    "## Evolving the 2D Heat Equation\n",
    "\n",
    "We solve:\n",
    "\n",
    "$$\n",
    "\\frac{du}{dt} = \\alpha L u\n",
    "$$\n",
    "\n",
    "with periodic boundary conditions."
   ]
  },
  {
   "cell_type": "code",
   "execution_count": 11,
   "id": "88faf3f9",
   "metadata": {},
   "outputs": [],
   "source": [
    "alpha = 1.0\n",
    "dt = 0.01\n",
    "steps = 500\n",
    "\n",
    "u_history, diagnostics = run_heat_solver_2d(u0, L_op, alpha, dt, steps)"
   ]
  },
  {
   "cell_type": "markdown",
   "id": "a4d592fc",
   "metadata": {},
   "source": [
    "## Animate Heat Evolution"
   ]
  },
  {
   "cell_type": "code",
   "execution_count": 12,
   "id": "a2bd319a",
   "metadata": {},
   "outputs": [],
   "source": [
    "# Save to file (high compression)\n",
    "animate_2d(u_history, x, y, interval=40, filename=\"heat_2D.mp4\")"
   ]
  },
  {
   "cell_type": "markdown",
   "id": "bbd5e372",
   "metadata": {},
   "source": [
    "## Diagnostics Over Time"
   ]
  },
  {
   "cell_type": "code",
   "execution_count": 13,
   "id": "066ac917",
   "metadata": {},
   "outputs": [
    {
     "data": {
      "image/png": "[encoded data removed]",
      "text/plain": [
       "<Figure size 640x480 with 1 Axes>"
      ]
     },
     "metadata": {},
     "output_type": "display_data"
    }
   ],
   "source": [
    "mins = [d[\"min\"] for d in diagnostics]\n",
    "maxs = [d[\"max\"] for d in diagnostics]\n",
    "means = [d[\"mean\"] for d in diagnostics]\n",
    "\n",
    "plt.plot(mins, label=\"min\")\n",
    "plt.plot(maxs, label=\"max\")\n",
    "plt.plot(means, label=\"mean\")\n",
    "plt.xlabel(\"Time Step\")\n",
    "plt.ylabel(\"Heat Value\")\n",
    "plt.title(\"Diagnostics Over Time\")\n",
    "plt.legend()\n",
    "plt.grid(True)\n",
    "plt.tight_layout()\n",
    "plt.show()"
   ]
  },
  {
   "cell_type": "markdown",
   "id": "deef414b",
   "metadata": {},
   "source": [
    "## L² Error vs Initial Condition\n",
    "\n",
    "We compute:\n",
    "\n",
    "$$\n",
    "\\| u(t) - u_0 \\|_2^2\n",
    "$$\n",
    "\n",
    "for each time step."
   ]
  },
  {
   "cell_type": "code",
   "execution_count": null,
   "id": "e65861b2",
   "metadata": {},
   "outputs": [
    {
     "ename": "TypeError",
     "evalue": "compute_l2_error() missing 1 required positional argument: 'dx'",
     "output_type": "error",
     "traceback": [
      "\u001b[31m---------------------------------------------------------------------------\u001b[39m",
      "\u001b[31mTypeError\u001b[39m                                 Traceback (most recent call last)",
      "\u001b[36mCell\u001b[39m\u001b[36m \u001b[39m\u001b[32mIn[14]\u001b[39m\u001b[32m, line 1\u001b[39m\n\u001b[32m----> \u001b[39m\u001b[32m1\u001b[39m errors = \u001b[43mcompute_l2_error\u001b[49m\u001b[43m(\u001b[49m\u001b[43mu_history\u001b[49m\u001b[43m,\u001b[49m\u001b[43m \u001b[49m\u001b[43mu_history\u001b[49m\u001b[43m[\u001b[49m\u001b[32;43m0\u001b[39;49m\u001b[43m]\u001b[49m\u001b[43m)\u001b[49m\n\u001b[32m      2\u001b[39m plt.plot(errors)\n\u001b[32m      3\u001b[39m plt.xlabel(\u001b[33m\"\u001b[39m\u001b[33mTime step\u001b[39m\u001b[33m\"\u001b[39m)\n",
      "\u001b[31mTypeError\u001b[39m: compute_l2_error() missing 1 required positional argument: 'dx'"
     ]
    }
   ],
   "source": [
    "errors = compute_l2_error(u_history, u_history[0], dx * dy)\n",
    "plt.plot(errors)\n",
    "plt.xlabel(\"Time step\")\n",
    "plt.ylabel(\"L² error\")\n",
    "plt.title(\"Deviation from initial condition\")\n",
    "plt.grid(True)\n",
    "plt.tight_layout()\n",
    "plt.show()"
   ]
  },
  {
   "cell_type": "markdown",
   "id": "a1ba8ea4",
   "metadata": {},
   "source": [
    "## Summary of Version 2.2\n",
    "\n",
    "- Implemented animation for 2D evolving fields (HTML5 or `.mp4`)\n",
    "- Computed diagnostic quantities over time\n",
    "- Tracked L² deviation from the initial Gaussian bump\n",
    "\n",
    "This notebook now supports full visual and numerical diagnostics for 2D PDE simulations."
   ]
  }
 ],
 "metadata": {
  "kernelspec": {
   "display_name": "Python 3",
   "language": "python",
   "name": "python3"
  },
  "language_info": {
   "codemirror_mode": {
    "name": "ipython",
    "version": 3
   },
   "file_extension": ".py",
   "mimetype": "text/x-python",
   "name": "python",
   "nbconvert_exporter": "python",
   "pygments_lexer": "ipython3",
   "version": "3.13.3"
  }
 },
 "nbformat": 4,
 "nbformat_minor": 5
}
