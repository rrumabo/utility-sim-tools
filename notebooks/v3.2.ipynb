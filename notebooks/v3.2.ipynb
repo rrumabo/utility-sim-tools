{
 "cells": [
  {
   "cell_type": "markdown",
   "id": "c35171a8",
   "metadata": {},
   "source": [
    "# Version 3.2 – Figure Saving and 1D Plotting Refactor\n",
    "\n",
    "In this version, we improve the output organization and make the notebook cleaner and production-ready.\n",
    "\n",
    "###  What we changed:\n",
    "- Centralized 1D plotting using `plot_initial_final()` from `src.visualization.plotting_1d`\n",
    "- All saved figures now go to the `figures/` folder (future-proof for paper-ready results)\n",
    "- Clean test for visual confirmation\n",
    "\n",
    "> This ensures consistency and keeps notebooks lean."
   ]
  },
  {
   "cell_type": "code",
   "execution_count": 1,
   "id": "e2c3e50c",
   "metadata": {},
   "outputs": [],
   "source": [
    "import os\n",
    "import sys\n",
    "import numpy as np\n",
    "import matplotlib.pyplot as plt\n",
    "\n",
    "sys.path.append(os.path.abspath(\"..\"))\n",
    "sys.path.append(os.path.abspath(\"../src\"))\n",
    "\n",
    "from utils.config_loader import load_config\n",
    "from visualization.plotting_1d import plot_initial_final"
   ]
  },
  {
   "cell_type": "markdown",
   "id": "5e85d53e",
   "metadata": {},
   "source": [
    "##  Load Configuration and Simulate\n",
    "\n",
    "We'll load the configuration from `config.yaml`, simulate 1D heat diffusion, and visualize the results using the new plot utility."
   ]
  },
  {
   "cell_type": "code",
   "execution_count": 2,
   "id": "97e9245a",
   "metadata": {},
   "outputs": [],
   "source": [
    "import importlib.util\n",
    "\n",
    "main_path = os.path.abspath(\"../main.py\")\n",
    "spec = importlib.util.spec_from_file_location(\"main\", main_path)\n",
    "main = importlib.util.module_from_spec(spec)\n",
    "spec.loader.exec_module(main)\n",
    "\n",
    "cfg = load_config(\"../config.yaml\")\n",
    "cfg[\"pde\"][\"type\"] = \"heat\"\n",
    "cfg[\"pde\"][\"dimension\"] = 1\n",
    "cfg[\"integrator\"][\"method\"] = \"rk4\"\n",
    "cfg[\"output\"][\"save_animation\"] = False\n",
    "cfg[\"output\"][\"save_diagnostics\"] = False\n",
    "cfg[\"output\"][\"plot_profile\"] = False  # We'll use the cleaner plotting here\n",
    "\n",
    "u_history = main.run_simulation(cfg)"
   ]
  },
  {
   "cell_type": "markdown",
   "id": "98e3857f",
   "metadata": {},
   "source": [
    "##  Final Profile Visualization\n",
    "\n",
    "We use the new `plot_initial_final()` to display and save a clean final plot."
   ]
  },
  {
   "cell_type": "code",
   "execution_count": 3,
   "id": "f37a3d96",
   "metadata": {},
   "outputs": [
    {
     "ename": "TypeError",
     "evalue": "plot_initial_final() got an unexpected keyword argument 'title'",
     "output_type": "error",
     "traceback": [
      "\u001b[31m---------------------------------------------------------------------------\u001b[39m",
      "\u001b[31mTypeError\u001b[39m                                 Traceback (most recent call last)",
      "\u001b[36mCell\u001b[39m\u001b[36m \u001b[39m\u001b[32mIn[3]\u001b[39m\u001b[32m, line 4\u001b[39m\n\u001b[32m      1\u001b[39m dx = cfg[\u001b[33m\"\u001b[39m\u001b[33mgrid\u001b[39m\u001b[33m\"\u001b[39m][\u001b[33m\"\u001b[39m\u001b[33mL\u001b[39m\u001b[33m\"\u001b[39m] / cfg[\u001b[33m\"\u001b[39m\u001b[33mgrid\u001b[39m\u001b[33m\"\u001b[39m][\u001b[33m\"\u001b[39m\u001b[33mN\u001b[39m\u001b[33m\"\u001b[39m]\n\u001b[32m      2\u001b[39m x = np.linspace(-cfg[\u001b[33m\"\u001b[39m\u001b[33mgrid\u001b[39m\u001b[33m\"\u001b[39m][\u001b[33m\"\u001b[39m\u001b[33mL\u001b[39m\u001b[33m\"\u001b[39m]/\u001b[32m2\u001b[39m, cfg[\u001b[33m\"\u001b[39m\u001b[33mgrid\u001b[39m\u001b[33m\"\u001b[39m][\u001b[33m\"\u001b[39m\u001b[33mL\u001b[39m\u001b[33m\"\u001b[39m]/\u001b[32m2\u001b[39m, cfg[\u001b[33m\"\u001b[39m\u001b[33mgrid\u001b[39m\u001b[33m\"\u001b[39m][\u001b[33m\"\u001b[39m\u001b[33mN\u001b[39m\u001b[33m\"\u001b[39m], endpoint=\u001b[38;5;28;01mFalse\u001b[39;00m)\n\u001b[32m----> \u001b[39m\u001b[32m4\u001b[39m \u001b[43mplot_initial_final\u001b[49m\u001b[43m(\u001b[49m\u001b[43mx\u001b[49m\u001b[43m,\u001b[49m\u001b[43m \u001b[49m\u001b[43mu_history\u001b[49m\u001b[43m[\u001b[49m\u001b[32;43m0\u001b[39;49m\u001b[43m]\u001b[49m\u001b[43m,\u001b[49m\u001b[43m \u001b[49m\u001b[43mu_history\u001b[49m\u001b[43m[\u001b[49m\u001b[43m-\u001b[49m\u001b[32;43m1\u001b[39;49m\u001b[43m]\u001b[49m\u001b[43m,\u001b[49m\u001b[43m \u001b[49m\u001b[43mtitle\u001b[49m\u001b[43m=\u001b[49m\u001b[33;43m\"\u001b[39;49m\u001b[33;43m1D Heat Diffusion\u001b[39;49m\u001b[33;43m\"\u001b[39;49m\u001b[43m,\u001b[49m\u001b[43m \u001b[49m\u001b[43mfilename\u001b[49m\u001b[43m=\u001b[49m\u001b[33;43m\"\u001b[39;49m\u001b[33;43mfigures/heat_1d_final.png\u001b[39;49m\u001b[33;43m\"\u001b[39;49m\u001b[43m)\u001b[49m\n",
      "\u001b[31mTypeError\u001b[39m: plot_initial_final() got an unexpected keyword argument 'title'"
     ]
    }
   ],
   "source": [
    "dx = cfg[\"grid\"][\"L\"] / cfg[\"grid\"][\"N\"]\n",
    "x = np.linspace(-cfg[\"grid\"][\"L\"]/2, cfg[\"grid\"][\"L\"]/2, cfg[\"grid\"][\"N\"], endpoint=False)\n",
    "\n",
    "plot_initial_final(x, u_history[0], u_history[-1], title=\"1D Heat Diffusion\", filename=\"figures/heat_1d_final.png\")"
   ]
  },
  {
   "cell_type": "markdown",
   "id": "0e38d575",
   "metadata": {},
   "source": [
    "##  Summary\n",
    "\n",
    "This notebook demonstrates the cleaner post-processing interface:\n",
    "\n",
    "-  Centralized plotting logic\n",
    "-  Saved to `figures/` folder for consistency\n",
    "-  Future-ready layout for embedding in papers or apps\n",
    "\n",
    "In future versions, this will be automatically triggered from CLI or GUI interfaces."
   ]
  }
 ],
 "metadata": {
  "kernelspec": {
   "display_name": "Python 3",
   "language": "python",
   "name": "python3"
  },
  "language_info": {
   "codemirror_mode": {
    "name": "ipython",
    "version": 3
   },
   "file_extension": ".py",
   "mimetype": "text/x-python",
   "name": "python",
   "nbconvert_exporter": "python",
   "pygments_lexer": "ipython3",
   "version": "3.13.3"
  }
 },
 "nbformat": 4,
 "nbformat_minor": 5
}
