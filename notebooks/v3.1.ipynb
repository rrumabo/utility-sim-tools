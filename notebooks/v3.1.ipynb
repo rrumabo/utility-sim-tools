{
 "cells": [
  {
   "cell_type": "markdown",
   "id": "bcc07ccf",
   "metadata": {},
   "source": [
    "# Version 3.0 – General Interface Refactor\n",
    "\n",
    "## In this notebook, we document and test the transition to a fully config-driven PDE simulation pipeline.\n",
    "\n",
    "Key Features:\n",
    "- PDEs selectable via config (`heat`, `nlse`, `burgers`)\n",
    "- Time integrators toggleable (`euler`, `rk4`)\n",
    "- CLI-style flags simulated in code\n",
    "- Animation, diagnostics, and plot control"
   ]
  },
  {
   "cell_type": "code",
   "execution_count": 10,
   "id": "e02cc2e3",
   "metadata": {},
   "outputs": [],
   "source": [
    "import os\n",
    "import sys\n",
    "import numpy as np\n",
    "import matplotlib.pyplot as plt\n",
    "import importlib.util\n",
    "\n",
    "sys.path.append(os.path.abspath(\"..\"))         \n",
    "sys.path.append(os.path.abspath(\"../src\"))    \n",
    "\n",
    "from utils.config_loader import load_config\n",
    "\n",
    "main_path = os.path.abspath(\"../main.py\")\n",
    "spec = importlib.util.spec_from_file_location(\"main\", main_path)\n",
    "main = importlib.util.module_from_spec(spec)\n",
    "spec.loader.exec_module(main)"
   ]
  },
  {
   "cell_type": "code",
   "execution_count": 11,
   "id": "bafc12b9",
   "metadata": {},
   "outputs": [],
   "source": [
    "cfg = load_config(\"../config.yaml\")\n",
    "\n",
    "# Optional overrides\n",
    "cfg[\"pde\"][\"type\"] = \"heat\"          \n",
    "cfg[\"integrator\"][\"method\"] = \"rk4\" \n",
    "cfg[\"output\"][\"save_animation\"] = False\n",
    "cfg[\"output\"][\"save_diagnostics\"] = True\n",
    "cfg[\"output\"][\"plot_profile\"] = True"
   ]
  },
  {
   "cell_type": "code",
   "execution_count": 12,
   "id": "eb855b5a",
   "metadata": {},
   "outputs": [
    {
     "name": "stdout",
     "output_type": "stream",
     "text": [
      "DEBUG: u0 shape: (129,)\n",
      "DEBUG: u_history[-1] shape: (129,)\n"
     ]
    },
    {
     "ename": "ValueError",
     "evalue": "cannot reshape array of size 1 into shape (129,)",
     "output_type": "error",
     "traceback": [
      "\u001b[31m---------------------------------------------------------------------------\u001b[39m",
      "\u001b[31mValueError\u001b[39m                                Traceback (most recent call last)",
      "\u001b[36mCell\u001b[39m\u001b[36m \u001b[39m\u001b[32mIn[12]\u001b[39m\u001b[32m, line 1\u001b[39m\n\u001b[32m----> \u001b[39m\u001b[32m1\u001b[39m \u001b[43mmain\u001b[49m\u001b[43m.\u001b[49m\u001b[43mrun_simulation\u001b[49m\u001b[43m(\u001b[49m\u001b[43mcfg\u001b[49m\u001b[43m)\u001b[49m\n",
      "\u001b[36mFile \u001b[39m\u001b[32m~/Desktop/utility-sim-tools/main.py:2\u001b[39m, in \u001b[36mrun_simulation\u001b[39m\u001b[34m(cfg)\u001b[39m\n\u001b[32m      1\u001b[39m \u001b[38;5;28;01mdef\u001b[39;00m\u001b[38;5;250m \u001b[39m\u001b[34mrun_simulation\u001b[39m(cfg):\n\u001b[32m----> \u001b[39m\u001b[32m2\u001b[39m     \u001b[43mmain\u001b[49m\u001b[43m(\u001b[49m\u001b[43mcfg\u001b[49m\u001b[43m)\u001b[49m\n",
      "\u001b[36mFile \u001b[39m\u001b[32m~/Desktop/utility-sim-tools/main.py:131\u001b[39m, in \u001b[36mmain\u001b[39m\u001b[34m(cfg)\u001b[39m\n\u001b[32m    129\u001b[39m \u001b[38;5;28mprint\u001b[39m(\u001b[33m\"\u001b[39m\u001b[33mDEBUG: u0 shape:\u001b[39m\u001b[33m\"\u001b[39m, u0.shape)\n\u001b[32m    130\u001b[39m \u001b[38;5;28mprint\u001b[39m(\u001b[33m\"\u001b[39m\u001b[33mDEBUG: u_history[-1] shape:\u001b[39m\u001b[33m\"\u001b[39m, u_history[-\u001b[32m1\u001b[39m].shape)\n\u001b[32m--> \u001b[39m\u001b[32m131\u001b[39m \u001b[43mmaybe_save_diagnostics\u001b[49m\u001b[43m(\u001b[49m\u001b[43mu_history\u001b[49m\u001b[43m[\u001b[49m\u001b[43m-\u001b[49m\u001b[32;43m1\u001b[39;49m\u001b[43m]\u001b[49m\u001b[43m,\u001b[49m\u001b[43m \u001b[49m\u001b[43mu0\u001b[49m\u001b[43m,\u001b[49m\u001b[43m \u001b[49m\u001b[43mdx\u001b[49m\u001b[43m,\u001b[49m\u001b[43m \u001b[49m\u001b[43mout_cfg\u001b[49m\u001b[43m[\u001b[49m\u001b[33;43m\"\u001b[39;49m\u001b[33;43mfolder\u001b[39;49m\u001b[33;43m\"\u001b[39;49m\u001b[43m]\u001b[49m\u001b[43m)\u001b[49m\n\u001b[32m    132\u001b[39m \u001b[38;5;28;01mwith\u001b[39;00m \u001b[38;5;28mopen\u001b[39m(\u001b[33mf\u001b[39m\u001b[33m\"\u001b[39m\u001b[38;5;132;01m{\u001b[39;00mout_cfg[\u001b[33m'\u001b[39m\u001b[33mfolder\u001b[39m\u001b[33m'\u001b[39m]\u001b[38;5;132;01m}\u001b[39;00m\u001b[33m/diagnostics.csv\u001b[39m\u001b[33m\"\u001b[39m, \u001b[33m\"\u001b[39m\u001b[33mw\u001b[39m\u001b[33m\"\u001b[39m, newline=\u001b[33m\"\u001b[39m\u001b[33m\"\u001b[39m) \u001b[38;5;28;01mas\u001b[39;00m f:\n\u001b[32m    133\u001b[39m     writer = csv.DictWriter(f, fieldnames=[\u001b[33m\"\u001b[39m\u001b[33mstep\u001b[39m\u001b[33m\"\u001b[39m, \u001b[33m\"\u001b[39m\u001b[33mmin\u001b[39m\u001b[33m\"\u001b[39m, \u001b[33m\"\u001b[39m\u001b[33mmax\u001b[39m\u001b[33m\"\u001b[39m, \u001b[33m\"\u001b[39m\u001b[33mmean\u001b[39m\u001b[33m\"\u001b[39m])\n",
      "\u001b[36mFile \u001b[39m\u001b[32m~/Desktop/utility-sim-tools/main.py:25\u001b[39m, in \u001b[36mmaybe_save_diagnostics\u001b[39m\u001b[34m(u_final, u_ref, dx, folder)\u001b[39m\n\u001b[32m     22\u001b[39m \u001b[38;5;28;01melse\u001b[39;00m:\n\u001b[32m     23\u001b[39m     dy = dx  \u001b[38;5;66;03m# fallback for 2D square grid (you can refine this later)\u001b[39;00m\n\u001b[32m---> \u001b[39m\u001b[32m25\u001b[39m l2_err = \u001b[43mplot_l2_error\u001b[49m\u001b[43m(\u001b[49m\u001b[43mu_final\u001b[49m\u001b[43m,\u001b[49m\u001b[43m \u001b[49m\u001b[43mu_ref\u001b[49m\u001b[43m,\u001b[49m\u001b[43m \u001b[49m\u001b[43mdx\u001b[49m\u001b[43m,\u001b[49m\u001b[43m \u001b[49m\u001b[43mdy\u001b[49m\u001b[43m)\u001b[49m\n\u001b[32m     26\u001b[39m \u001b[38;5;28;01mwith\u001b[39;00m \u001b[38;5;28mopen\u001b[39m(\u001b[33mf\u001b[39m\u001b[33m\"\u001b[39m\u001b[38;5;132;01m{\u001b[39;00mfolder\u001b[38;5;132;01m}\u001b[39;00m\u001b[33m/diagnostics.yaml\u001b[39m\u001b[33m\"\u001b[39m, \u001b[33m\"\u001b[39m\u001b[33mw\u001b[39m\u001b[33m\"\u001b[39m) \u001b[38;5;28;01mas\u001b[39;00m f:\n\u001b[32m     27\u001b[39m     yaml.dump({\u001b[33m\"\u001b[39m\u001b[33mL2_error\u001b[39m\u001b[33m\"\u001b[39m: \u001b[38;5;28mfloat\u001b[39m(l2_err)}, f)\n",
      "\u001b[36mFile \u001b[39m\u001b[32m~/Desktop/utility-sim-tools/src/utils/diagnostics.py:16\u001b[39m, in \u001b[36mplot_l2_error\u001b[39m\u001b[34m(u_history, reference, dx, dy, title)\u001b[39m\n\u001b[32m     14\u001b[39m \u001b[38;5;28;01mdef\u001b[39;00m\u001b[38;5;250m \u001b[39m\u001b[34mplot_l2_error\u001b[39m(u_history, reference, dx, dy, title=\u001b[33m\"\u001b[39m\u001b[33mL² Error over Time\u001b[39m\u001b[33m\"\u001b[39m):\n\u001b[32m     15\u001b[39m     errors = [\n\u001b[32m---> \u001b[39m\u001b[32m16\u001b[39m         np.sqrt(np.sum((\u001b[43mu\u001b[49m\u001b[43m.\u001b[49m\u001b[43mreshape\u001b[49m\u001b[43m(\u001b[49m\u001b[43mreference\u001b[49m\u001b[43m.\u001b[49m\u001b[43mshape\u001b[49m\u001b[43m)\u001b[49m - reference)**\u001b[32m2\u001b[39m) * dx * dy)\n\u001b[32m     17\u001b[39m         \u001b[38;5;28;01mfor\u001b[39;00m u \u001b[38;5;129;01min\u001b[39;00m u_history\n\u001b[32m     18\u001b[39m     ]\n\u001b[32m     20\u001b[39m     plt.plot(errors)\n\u001b[32m     21\u001b[39m     plt.xlabel(\u001b[33m\"\u001b[39m\u001b[33mTime step\u001b[39m\u001b[33m\"\u001b[39m)\n",
      "\u001b[31mValueError\u001b[39m: cannot reshape array of size 1 into shape (129,)"
     ]
    }
   ],
   "source": [
    "main.run_simulation(cfg)"
   ]
  },
  {
   "cell_type": "markdown",
   "id": "ce1e9fe8",
   "metadata": {},
   "source": [
    "## Outputs Generated\n",
    "\n",
    "- Final profile plot → `figures/final_comparison.png`\n",
    "- Diagnostics → `figures/diagnostics.csv` and `.yaml`\n",
    "- Animation (if enabled) → `figures/heat_diffusion.gif`\n",
    "\n",
    "Try toggling:\n",
    "- `cfg[\"pde\"][\"type\"] = \"nlse\"`\n",
    "- `cfg[\"integrator\"][\"method\"] = \"euler\"`\n",
    "And rerun the cell above."
   ]
  }
 ],
 "metadata": {
  "kernelspec": {
   "display_name": "Python 3",
   "language": "python",
   "name": "python3"
  },
  "language_info": {
   "codemirror_mode": {
    "name": "ipython",
    "version": 3
   },
   "file_extension": ".py",
   "mimetype": "text/x-python",
   "name": "python",
   "nbconvert_exporter": "python",
   "pygments_lexer": "ipython3",
   "version": "3.13.3"
  }
 },
 "nbformat": 4,
 "nbformat_minor": 5
}
