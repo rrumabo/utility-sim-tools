{
 "cells": [
  {
   "cell_type": "markdown",
   "id": "54a95230",
   "metadata": {},
   "source": [
    "# Version 3.1 – CLI Integration and Configurable Simulation Engine\n",
    "\n",
    "-  Version introduces a major shift from hardcoded simulations to a fully configurable CLI-driven system. All PDE logic, spatial setup, time integration, and output control are now routed through:\n",
    "\n",
    "- `config.yaml`: YAML file with simulation parameters\n",
    "- `main.py`: CLI entry point for launching simulations\n",
    "\n",
    "> This design makes the tool portable, automatable, and GUI-ready in future versions."
   ]
  },
  {
   "cell_type": "code",
   "execution_count": 1,
   "id": "05f052c2",
   "metadata": {},
   "outputs": [],
   "source": [
    "import os\n",
    "import sys\n",
    "import numpy as np\n",
    "import matplotlib.pyplot as plt\n",
    "import importlib.util\n",
    "\n",
    "# Ensure root and src are in path\n",
    "sys.path.append(os.path.abspath(\"..\"))\n",
    "sys.path.append(os.path.abspath(\"../src\"))\n",
    "\n",
    "# Dynamically import main.py as a module\n",
    "main_path = os.path.abspath(\"../main.py\")\n",
    "spec = importlib.util.spec_from_file_location(\"main\", main_path)\n",
    "main = importlib.util.module_from_spec(spec)\n",
    "spec.loader.exec_module(main)"
   ]
  },
  {
   "cell_type": "markdown",
   "id": "111f4aa9",
   "metadata": {},
   "source": [
    "##  Test: Run a 1D heat simulation from config\n",
    "We override a few settings from `config.yaml` and run the simulation programmatically."
   ]
  },
  {
   "cell_type": "code",
   "execution_count": 2,
   "id": "723df10a",
   "metadata": {},
   "outputs": [
    {
     "name": "stdout",
     "output_type": "stream",
     "text": [
      "DEBUG: u0 shape: (129,)\n",
      "DEBUG: u_history[-1] shape: (129,)\n"
     ]
    }
   ],
   "source": [
    "from utils.config_loader import load_config\n",
    "\n",
    "cfg = load_config(\"../config.yaml\")\n",
    "\n",
    "# Optional overrides from notebook\n",
    "cfg[\"pde\"][\"dimension\"] = 1\n",
    "cfg[\"pde\"][\"type\"] = \"heat\"\n",
    "cfg[\"integrator\"][\"method\"] = \"rk4\"\n",
    "cfg[\"simulation\"][\"steps\"] = 200\n",
    "cfg[\"output\"][\"save_animation\"] = False\n",
    "cfg[\"output\"][\"save_diagnostics\"] = True\n",
    "cfg[\"output\"][\"plot_profile\"] = True\n",
    "\n",
    "main.run_simulation(cfg)"
   ]
  },
  {
   "cell_type": "markdown",
   "id": "896d66e2",
   "metadata": {},
   "source": [
    "##  Why This Matters\n",
    "\n",
    "- We can now run any supported PDE by simply editing `config.yaml`.\n",
    "- Future users or GUIs can launch simulations via command-line flags or YAML presets.\n",
    "- The modular structure supports scaling to 2D, 3D, non-linear solvers, ML integration, etc.\n",
    "\n",
    "> This marks the end of the monolithic notebook era and the beginning of a robust simulation engine."
   ]
  }
 ],
 "metadata": {
  "kernelspec": {
   "display_name": "Python 3",
   "language": "python",
   "name": "python3"
  },
  "language_info": {
   "codemirror_mode": {
    "name": "ipython",
    "version": 3
   },
   "file_extension": ".py",
   "mimetype": "text/x-python",
   "name": "python",
   "nbconvert_exporter": "python",
   "pygments_lexer": "ipython3",
   "version": "3.13.3"
  }
 },
 "nbformat": 4,
 "nbformat_minor": 5
}
