{
 "cells": [
  {
   "cell_type": "markdown",
   "id": "b1a4e004",
   "metadata": {},
   "source": [
    "# Version 3.3 – Diagnostic Manager Integration\n",
    "\n",
    "This version introduces a centralized `DiagnosticManager` class that:\n",
    "- Tracks simulation metrics like `min`, `max`, `mean`, `mass`, and `L² error`\n",
    "- Saves diagnostic data to `.csv` and `.yaml`\n",
    "- Replaces scattered diagnostic tracking code with a unified, reusable structure\n",
    "\n",
    "> This prepares the tool for future GUI/ML integration and consistent benchmarking across PDE types."
   ]
  },
  {
   "cell_type": "code",
   "execution_count": 1,
   "id": "7cf789f3",
   "metadata": {},
   "outputs": [],
   "source": [
    "import os\n",
    "import sys\n",
    "import numpy as np\n",
    "import matplotlib.pyplot as plt\n",
    "import importlib.util\n",
    "\n",
    "sys.path.append(os.path.abspath(\"..\"))\n",
    "sys.path.append(os.path.abspath(\"../src\"))\n",
    "\n",
    "from utils.config_loader import load_config\n",
    "from utils.diagnostic_manager import DiagnosticManager\n",
    "\n",
    "main_path = os.path.abspath(\"../main.py\")\n",
    "spec = importlib.util.spec_from_file_location(\"main\", main_path)\n",
    "main = importlib.util.module_from_spec(spec)\n",
    "spec.loader.exec_module(main)"
   ]
  },
  {
   "cell_type": "markdown",
   "id": "3654a23f",
   "metadata": {},
   "source": [
    "## Setup\n",
    "\n",
    "We load a heat equation configuration using RK4 integration.  \n",
    "Diagnostics are enabled and will be collected by the `DiagnosticManager`.  \n",
    "The simulation runs for 200 steps on a 1D domain."
   ]
  },
  {
   "cell_type": "code",
   "execution_count": 2,
   "id": "0d94679f",
   "metadata": {},
   "outputs": [],
   "source": [
    "cfg = load_config(\"../config.yaml\")\n",
    "cfg[\"pde\"][\"type\"] = \"heat\"\n",
    "cfg[\"pde\"][\"dimension\"] = 1\n",
    "cfg[\"integrator\"][\"method\"] = \"rk4\"\n",
    "cfg[\"output\"][\"save_diagnostics\"] = True\n",
    "cfg[\"output\"][\"save_animation\"] = False\n",
    "cfg[\"output\"][\"plot_profile\"] = True"
   ]
  },
  {
   "cell_type": "code",
   "execution_count": 3,
   "id": "5316d20f",
   "metadata": {},
   "outputs": [
    {
     "name": "stdout",
     "output_type": "stream",
     "text": [
      "DEBUG: u0 shape: (129,)\n",
      "DEBUG: u_history[-1] shape: (129,)\n"
     ]
    }
   ],
   "source": [
    "u_history = main.run_simulation(cfg)"
   ]
  },
  {
   "cell_type": "markdown",
   "id": "554d6aff",
   "metadata": {},
   "source": [
    "## Diagnostic Output\n",
    "\n",
    "Diagnostics have been written to the folder specified in `config.yaml`:\n",
    "- `diagnostics.csv` for structured tabular output\n",
    "- `diagnostics.yaml` for flexible hierarchical use (e.g., with ML tools)\n",
    "\n",
    "> We now inspect their contents."
   ]
  },
  {
   "cell_type": "code",
   "execution_count": 4,
   "id": "07201dc8",
   "metadata": {},
   "outputs": [
    {
     "data": {
      "text/html": [
       "<div>\n",
       "<style scoped>\n",
       "    .dataframe tbody tr th:only-of-type {\n",
       "        vertical-align: middle;\n",
       "    }\n",
       "\n",
       "    .dataframe tbody tr th {\n",
       "        vertical-align: top;\n",
       "    }\n",
       "\n",
       "    .dataframe thead th {\n",
       "        text-align: right;\n",
       "    }\n",
       "</style>\n",
       "<table border=\"1\" class=\"dataframe\">\n",
       "  <thead>\n",
       "    <tr style=\"text-align: right;\">\n",
       "      <th></th>\n",
       "      <th>step</th>\n",
       "      <th>min</th>\n",
       "      <th>max</th>\n",
       "      <th>mean</th>\n",
       "    </tr>\n",
       "  </thead>\n",
       "  <tbody>\n",
       "    <tr>\n",
       "      <th>0</th>\n",
       "      <td>0</td>\n",
       "      <td>1.291038e-42</td>\n",
       "      <td>0.986333</td>\n",
       "      <td>0.088623</td>\n",
       "    </tr>\n",
       "    <tr>\n",
       "      <th>1</th>\n",
       "      <td>1</td>\n",
       "      <td>1.717684e-41</td>\n",
       "      <td>0.978830</td>\n",
       "      <td>0.088623</td>\n",
       "    </tr>\n",
       "    <tr>\n",
       "      <th>2</th>\n",
       "      <td>2</td>\n",
       "      <td>1.745848e-40</td>\n",
       "      <td>0.971493</td>\n",
       "      <td>0.088623</td>\n",
       "    </tr>\n",
       "    <tr>\n",
       "      <th>3</th>\n",
       "      <td>3</td>\n",
       "      <td>1.442700e-39</td>\n",
       "      <td>0.964317</td>\n",
       "      <td>0.088623</td>\n",
       "    </tr>\n",
       "    <tr>\n",
       "      <th>4</th>\n",
       "      <td>4</td>\n",
       "      <td>1.004339e-38</td>\n",
       "      <td>0.957295</td>\n",
       "      <td>0.088623</td>\n",
       "    </tr>\n",
       "  </tbody>\n",
       "</table>\n",
       "</div>"
      ],
      "text/plain": [
       "   step           min       max      mean\n",
       "0     0  1.291038e-42  0.986333  0.088623\n",
       "1     1  1.717684e-41  0.978830  0.088623\n",
       "2     2  1.745848e-40  0.971493  0.088623\n",
       "3     3  1.442700e-39  0.964317  0.088623\n",
       "4     4  1.004339e-38  0.957295  0.088623"
      ]
     },
     "execution_count": 4,
     "metadata": {},
     "output_type": "execute_result"
    }
   ],
   "source": [
    "import pandas as pd\n",
    "\n",
    "df = pd.read_csv(\"figures/diagnostics.csv\")\n",
    "df.head()"
   ]
  },
  {
   "cell_type": "code",
   "execution_count": 5,
   "id": "0dca6da4",
   "metadata": {},
   "outputs": [],
   "source": [
    "if \"l2_error\" in df.columns:\n",
    "    plt.plot(df[\"time\"], df[\"l2_error\"])\n",
    "    plt.title(\"L² Error Over Time\")\n",
    "    plt.xlabel(\"Time\")\n",
    "    plt.ylabel(\"L² Error\")\n",
    "    plt.grid(True)\n",
    "    plt.show()\n",
    "\n",
    "if \"mass\" in df.columns:\n",
    "    plt.plot(df[\"time\"], df[\"mass\"])\n",
    "    plt.title(\"Mass Over Time\")\n",
    "    plt.xlabel(\"Time\")\n",
    "    plt.ylabel(\"Mass\")\n",
    "    plt.grid(True)\n",
    "    plt.show()"
   ]
  },
  {
   "cell_type": "markdown",
   "id": "f07618ea",
   "metadata": {},
   "source": [
    "## Conclusion\n",
    "\n",
    "### The DiagnosticManager has replaced hardcoded tracking logic with a unified interface.\n",
    "\n",
    "Advantages:\n",
    "- Easier to extend (e.g., to track energy or entropy)\n",
    "- Standard output format (csv/yaml) simplifies analysis and ML integration\n",
    "- Guarantees consistency across PDEs and dimensions\n",
    "- Future-ready for front-end visual dashboards\n",
    "\n",
    "> This completes version 3.3."
   ]
  }
 ],
 "metadata": {
  "kernelspec": {
   "display_name": "Python 3",
   "language": "python",
   "name": "python3"
  },
  "language_info": {
   "codemirror_mode": {
    "name": "ipython",
    "version": 3
   },
   "file_extension": ".py",
   "mimetype": "text/x-python",
   "name": "python",
   "nbconvert_exporter": "python",
   "pygments_lexer": "ipython3",
   "version": "3.13.3"
  }
 },
 "nbformat": 4,
 "nbformat_minor": 5
}
