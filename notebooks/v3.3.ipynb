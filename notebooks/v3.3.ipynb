{
 "cells": [
  {
   "cell_type": "markdown",
   "id": "b1a4e004",
   "metadata": {},
   "source": [
    "# Version 3.3 – Diagnostic Manager Integration\n",
    "\n",
    "This version introduces a centralized `DiagnosticManager` class that:\n",
    "- Tracks simulation metrics like `min`, `max`, `mean`, `mass`, and `L² error`\n",
    "- Saves diagnostic data to `.csv` and `.yaml`\n",
    "- Replaces scattered diagnostic tracking code with a unified, reusable structure\n",
    "\n",
    "> This prepares the tool for future GUI/ML integration and consistent benchmarking across PDE types."
   ]
  },
  {
   "cell_type": "code",
   "execution_count": 1,
   "id": "7cf789f3",
   "metadata": {},
   "outputs": [],
   "source": [
    "import os\n",
    "import sys\n",
    "import numpy as np\n",
    "import matplotlib.pyplot as plt\n",
    "import importlib.util\n",
    "\n",
    "sys.path.append(os.path.abspath(\"..\"))\n",
    "sys.path.append(os.path.abspath(\"../src\"))\n",
    "\n",
    "from utils.config_loader import load_config\n",
    "from utils.diagnostic_manager import DiagnosticManager\n",
    "\n",
    "main_path = os.path.abspath(\"../main.py\")\n",
    "spec = importlib.util.spec_from_file_location(\"main\", main_path)\n",
    "main = importlib.util.module_from_spec(spec)\n",
    "spec.loader.exec_module(main)"
   ]
  },
  {
   "cell_type": "markdown",
   "id": "3654a23f",
   "metadata": {},
   "source": [
    "## Setup\n",
    "\n",
    "We load a heat equation configuration using RK4 integration.  \n",
    "Diagnostics are enabled and will be collected by the `DiagnosticManager`.  \n",
    "The simulation runs for 200 steps on a 1D domain."
   ]
  },
  {
   "cell_type": "code",
   "execution_count": 2,
   "id": "0d94679f",
   "metadata": {},
   "outputs": [],
   "source": [
    "cfg = load_config(\"../config.yaml\")\n",
    "cfg[\"pde\"][\"type\"] = \"heat\"\n",
    "cfg[\"pde\"][\"dimension\"] = 1\n",
    "cfg[\"integrator\"][\"method\"] = \"rk4\"\n",
    "cfg[\"output\"][\"save_diagnostics\"] = True\n",
    "cfg[\"output\"][\"save_animation\"] = False\n",
    "cfg[\"output\"][\"plot_profile\"] = True"
   ]
  },
  {
   "cell_type": "code",
   "execution_count": 3,
   "id": "5316d20f",
   "metadata": {},
   "outputs": [
    {
     "ename": "ValueError",
     "evalue": "Shape mismatch: u has shape (), but u_ref has shape (129,)",
     "output_type": "error",
     "traceback": [
      "\u001b[31m---------------------------------------------------------------------------\u001b[39m",
      "\u001b[31mValueError\u001b[39m                                Traceback (most recent call last)",
      "\u001b[36mCell\u001b[39m\u001b[36m \u001b[39m\u001b[32mIn[3]\u001b[39m\u001b[32m, line 1\u001b[39m\n\u001b[32m----> \u001b[39m\u001b[32m1\u001b[39m u_history = \u001b[43mmain\u001b[49m\u001b[43m.\u001b[49m\u001b[43mrun_simulation\u001b[49m\u001b[43m(\u001b[49m\u001b[43mcfg\u001b[49m\u001b[43m)\u001b[49m\n",
      "\u001b[36mFile \u001b[39m\u001b[32m~/Desktop/utility-sim-tools/main.py:2\u001b[39m, in \u001b[36mrun_simulation\u001b[39m\u001b[34m(cfg)\u001b[39m\n\u001b[32m      1\u001b[39m \u001b[38;5;28;01mdef\u001b[39;00m\u001b[38;5;250m \u001b[39m\u001b[34mrun_simulation\u001b[39m(cfg):\n\u001b[32m----> \u001b[39m\u001b[32m2\u001b[39m     \u001b[38;5;28;01mreturn\u001b[39;00m \u001b[43mmain\u001b[49m\u001b[43m(\u001b[49m\u001b[43mcfg\u001b[49m\u001b[43m)\u001b[49m\n",
      "\u001b[36mFile \u001b[39m\u001b[32m~/Desktop/utility-sim-tools/main.py:123\u001b[39m, in \u001b[36mmain\u001b[39m\u001b[34m(cfg)\u001b[39m\n\u001b[32m    116\u001b[39m     u_history.append(u.copy())\n\u001b[32m    117\u001b[39m     diagnostics.append({\n\u001b[32m    118\u001b[39m         \u001b[33m\"\u001b[39m\u001b[33mstep\u001b[39m\u001b[33m\"\u001b[39m: step,\n\u001b[32m    119\u001b[39m         \u001b[33m\"\u001b[39m\u001b[33mmin\u001b[39m\u001b[33m\"\u001b[39m: u.min(),\n\u001b[32m    120\u001b[39m         \u001b[33m\"\u001b[39m\u001b[33mmax\u001b[39m\u001b[33m\"\u001b[39m: u.max(),\n\u001b[32m    121\u001b[39m         \u001b[33m\"\u001b[39m\u001b[33mmean\u001b[39m\u001b[33m\"\u001b[39m: u.mean(),\n\u001b[32m    122\u001b[39m     })\n\u001b[32m--> \u001b[39m\u001b[32m123\u001b[39m     \u001b[43mdiagnostics_manager\u001b[49m\u001b[43m.\u001b[49m\u001b[43mtrack_step\u001b[49m\u001b[43m(\u001b[49m\u001b[43mstep\u001b[49m\u001b[43m,\u001b[49m\u001b[43m \u001b[49m\u001b[43mu\u001b[49m\u001b[43m)\u001b[49m\n\u001b[32m    125\u001b[39m os.makedirs(out_cfg[\u001b[33m\"\u001b[39m\u001b[33mfolder\u001b[39m\u001b[33m\"\u001b[39m], exist_ok=\u001b[38;5;28;01mTrue\u001b[39;00m)\n\u001b[32m    127\u001b[39m \u001b[38;5;28;01mif\u001b[39;00m out_cfg.get(\u001b[33m\"\u001b[39m\u001b[33mplot_profile\u001b[39m\u001b[33m\"\u001b[39m, \u001b[38;5;28;01mTrue\u001b[39;00m):\n",
      "\u001b[36mFile \u001b[39m\u001b[32m~/Desktop/utility-sim-tools/src/utils/diagnostic_manager.py:20\u001b[39m, in \u001b[36mDiagnosticManager.track_step\u001b[39m\u001b[34m(self, u, t)\u001b[39m\n\u001b[32m     18\u001b[39m \u001b[38;5;28;01mif\u001b[39;00m \u001b[33m\"\u001b[39m\u001b[33ml2_error\u001b[39m\u001b[33m\"\u001b[39m \u001b[38;5;129;01min\u001b[39;00m \u001b[38;5;28mself\u001b[39m.track \u001b[38;5;129;01mand\u001b[39;00m \u001b[38;5;28mself\u001b[39m.u_ref \u001b[38;5;129;01mis\u001b[39;00m \u001b[38;5;129;01mnot\u001b[39;00m \u001b[38;5;28;01mNone\u001b[39;00m:\n\u001b[32m     19\u001b[39m     \u001b[38;5;28;01mif\u001b[39;00m u.shape != \u001b[38;5;28mself\u001b[39m.u_ref.shape:\n\u001b[32m---> \u001b[39m\u001b[32m20\u001b[39m         \u001b[38;5;28;01mraise\u001b[39;00m \u001b[38;5;167;01mValueError\u001b[39;00m(\u001b[33mf\u001b[39m\u001b[33m\"\u001b[39m\u001b[33mShape mismatch: u has shape \u001b[39m\u001b[38;5;132;01m{\u001b[39;00mu.shape\u001b[38;5;132;01m}\u001b[39;00m\u001b[33m, but u_ref has shape \u001b[39m\u001b[38;5;132;01m{\u001b[39;00m\u001b[38;5;28mself\u001b[39m.u_ref.shape\u001b[38;5;132;01m}\u001b[39;00m\u001b[33m\"\u001b[39m)\n\u001b[32m     22\u001b[39m entry = {\u001b[33m\"\u001b[39m\u001b[33mtime\u001b[39m\u001b[33m\"\u001b[39m: t}\n\u001b[32m     23\u001b[39m \u001b[38;5;28;01mif\u001b[39;00m \u001b[33m\"\u001b[39m\u001b[33mmin\u001b[39m\u001b[33m\"\u001b[39m \u001b[38;5;129;01min\u001b[39;00m \u001b[38;5;28mself\u001b[39m.track:\n",
      "\u001b[31mValueError\u001b[39m: Shape mismatch: u has shape (), but u_ref has shape (129,)"
     ]
    }
   ],
   "source": [
    "u_history = main.run_simulation(cfg)"
   ]
  },
  {
   "cell_type": "markdown",
   "id": "554d6aff",
   "metadata": {},
   "source": [
    "## Diagnostic Output\n",
    "\n",
    "Diagnostics have been written to the folder specified in `config.yaml`:\n",
    "- `diagnostics.csv` for structured tabular output\n",
    "- `diagnostics.yaml` for flexible hierarchical use (e.g., with ML tools)\n",
    "\n",
    "> We now inspect their contents."
   ]
  },
  {
   "cell_type": "code",
   "execution_count": null,
   "id": "07201dc8",
   "metadata": {},
   "outputs": [],
   "source": [
    "import pandas as pd\n",
    "\n",
    "df = pd.read_csv(\"figures/diagnostics.csv\")\n",
    "df.head()"
   ]
  },
  {
   "cell_type": "code",
   "execution_count": null,
   "id": "0dca6da4",
   "metadata": {},
   "outputs": [],
   "source": [
    "if \"l2_error\" in df.columns:\n",
    "    plt.plot(df[\"time\"], df[\"l2_error\"])\n",
    "    plt.title(\"L² Error Over Time\")\n",
    "    plt.xlabel(\"Time\")\n",
    "    plt.ylabel(\"L² Error\")\n",
    "    plt.grid(True)\n",
    "    plt.show()\n",
    "\n",
    "if \"mass\" in df.columns:\n",
    "    plt.plot(df[\"time\"], df[\"mass\"])\n",
    "    plt.title(\"Mass Over Time\")\n",
    "    plt.xlabel(\"Time\")\n",
    "    plt.ylabel(\"Mass\")\n",
    "    plt.grid(True)\n",
    "    plt.show()"
   ]
  },
  {
   "cell_type": "markdown",
   "id": "f07618ea",
   "metadata": {},
   "source": [
    "## Conclusion\n",
    "\n",
    "### The DiagnosticManager has replaced hardcoded tracking logic with a unified interface.\n",
    "\n",
    "Advantages:\n",
    "- Easier to extend (e.g., to track energy or entropy)\n",
    "- Standard output format (csv/yaml) simplifies analysis and ML integration\n",
    "- Guarantees consistency across PDEs and dimensions\n",
    "- Future-ready for front-end visual dashboards\n",
    "\n",
    "> This completes version 3.3."
   ]
  }
 ],
 "metadata": {
  "kernelspec": {
   "display_name": "Python 3",
   "language": "python",
   "name": "python3"
  },
  "language_info": {
   "codemirror_mode": {
    "name": "ipython",
    "version": 3
   },
   "file_extension": ".py",
   "mimetype": "text/x-python",
   "name": "python",
   "nbconvert_exporter": "python",
   "pygments_lexer": "ipython3",
   "version": "3.13.3"
  }
 },
 "nbformat": 4,
 "nbformat_minor": 5
}
