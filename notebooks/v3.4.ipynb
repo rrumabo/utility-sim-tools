{
 "cells": [
  {
   "cell_type": "markdown",
   "id": "3250a5b2",
   "metadata": {},
   "source": [
    "# Version 3.4 – Unified Diagnostics System\n",
    "\n",
    "In this version, we finalize and consolidate all diagnostic tracking under a unified interface using `DiagnosticManager`. This allows the simulation to:\n",
    "\n",
    "- Track and log min, max, mean, mass, and L² error at every step\n",
    "- Store results as both `.csv` and `.yaml` files\n",
    "- Support both 1D and 2D simulations through auto-detected dimensionality\n",
    "- Automatically reshape or validate data to avoid shape mismatch errors\n",
    "\n",
    "> This marks a major milestone in making the tool **robust, scientific, and GUI/ML-ready**."
   ]
  },
  {
   "cell_type": "code",
   "execution_count": 7,
   "id": "bc6b4de7",
   "metadata": {},
   "outputs": [],
   "source": [
    "import os\n",
    "import sys\n",
    "import importlib.util\n",
    "import numpy as np\n",
    "import matplotlib.pyplot as plt\n",
    "\n",
    "sys.path.append(os.path.abspath(\"..\"))\n",
    "sys.path.append(os.path.abspath(\"../src\"))\n",
    "\n",
    "from utils.config_loader import load_config\n",
    "\n",
    "main_path = os.path.abspath(\"../main.py\")\n",
    "spec = importlib.util.spec_from_file_location(\"main\", main_path)\n",
    "main = importlib.util.module_from_spec(spec)\n",
    "spec.loader.exec_module(main)"
   ]
  },
  {
   "cell_type": "markdown",
   "id": "e0545796",
   "metadata": {},
   "source": [
    "##  Configuration Setup\n",
    "\n",
    "We load the config and override simulation parameters to use 1D heat equation and RK4 integrator. Output flags are set to test diagnostic saving behavior."
   ]
  },
  {
   "cell_type": "code",
   "execution_count": 8,
   "id": "af9e8c66",
   "metadata": {},
   "outputs": [],
   "source": [
    "cfg = load_config(\"../config.yaml\")\n",
    "\n",
    "cfg[\"pde\"][\"type\"] = \"heat\"\n",
    "cfg[\"pde\"][\"dimension\"] = 1\n",
    "cfg[\"integrator\"][\"method\"] = \"rk4\"\n",
    "\n",
    "cfg[\"output\"][\"save_animation\"] = False\n",
    "cfg[\"output\"][\"save_diagnostics\"] = True\n",
    "cfg[\"output\"][\"plot_profile\"] = False\n",
    "cfg[\"output\"][\"folder\"] = \"figures\""
   ]
  },
  {
   "cell_type": "markdown",
   "id": "0aa5cc23",
   "metadata": {},
   "source": [
    "##  Run Simulation and Track Diagnostics\n",
    "\n",
    "> We run the simulation using the new diagnostic system and save the results in `.yaml` and `.csv` formats."
   ]
  },
  {
   "cell_type": "code",
   "execution_count": 9,
   "id": "212528bc",
   "metadata": {},
   "outputs": [],
   "source": [
    "u_history = main.run_simulation(cfg)"
   ]
  },
  {
   "cell_type": "markdown",
   "id": "3fa1a47f",
   "metadata": {},
   "source": [
    "##  Diagnostics Output\n",
    "\n",
    "If the simulation ran successfully, we should now find:\n",
    "\n",
    "- A `diagnostics.yaml` file in `figures/` containing final L² error\n",
    "- A `diagnostics.csv` file logging all steps with:\n",
    "  - `step`, `min`, `max`, `mean`, `mass`, and `l2_error` (if applicable)"
   ]
  }
 ],
 "metadata": {
  "kernelspec": {
   "display_name": "Python 3",
   "language": "python",
   "name": "python3"
  },
  "language_info": {
   "codemirror_mode": {
    "name": "ipython",
    "version": 3
   },
   "file_extension": ".py",
   "mimetype": "text/x-python",
   "name": "python",
   "nbconvert_exporter": "python",
   "pygments_lexer": "ipython3",
   "version": "3.13.3"
  }
 },
 "nbformat": 4,
 "nbformat_minor": 5
}
